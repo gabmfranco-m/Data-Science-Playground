{
 "cells": [
  {
   "cell_type": "markdown",
   "metadata": {},
   "source": [
    "![Insper](https://github.com/danielscarvalho/Insper-DS-Dicas/blob/master/Insper-Logo.png?raw=true)\n",
    "\n",
    "# Insper Pós-Graduação\n",
    "## Programa Avançado em Data Science e Decisão [»](https://www.insper.edu.br/pos-graduacao/programas-avancados/data-science-e-decisao/)"
   ]
  },
  {
   "cell_type": "markdown",
   "metadata": {},
   "source": [
    "# PADSW04 - Checkpoint de aprendizagem\n",
    "\n",
    "<img src=\"https://s2.glbimg.com/yRAg4neotKdKHDgjKDStFucWDfw=/0x0:5278x3519/984x0/smart/filters:strip_icc()/i.s3.glbimg.com/v1/AUTH_59edd422c0c84a879bd37670ae4f538a/internal_photos/bs/2020/I/z/geO9zzSuA9FkloAFqTHg/000-8vd68k.jpg\" width=\"500\"/>\n",
    "\n",
    "<p style=\"text-align:center;\">Imagem: https://bit.ly/3sxlQfQ</p>\n",
    "\n",
    "\n",
    "Esta prática faz uso de *dados reais* disponibilizados no repositório : https://github.com/wcota/covid19br/blob/master/DESCRIPTION.md \n",
    "\n",
    "Ele contém a série histórica de casos de COVID-19 no Brasil. Há arquivos com dados consolidados por estado e outros focados em municípios. Além disso, há arquivos com informações auxiliares sobre os municípios e as fontes de dados. \n",
    "\n",
    "\n",
    "### Dados  \n",
    "\n",
    "Utilizaremos os seguintes arquivos disponibilizados neste repositório:\n",
    "\n",
    "- `cases-brazil-states.csv` - série histórica completa de casos de COVID-19 no Brasil por estado\n",
    "- `cases-brazil-cities.csv` - dados de COVID-19 no Brasil por município, do último dia disponível \n",
    "- `cities_info.csv` - informações adicionais sobre o município, como população, se o local é região metropolitana, etc\n",
    "- `gps_cities.csv` - coordenadas GPS de cada município\n",
    "\n",
    "Você não precisa baixar os dados, pode consumi-los online por meio de comandos como: \n",
    "\n",
    "```python\n",
    "    import pandas as pd \n",
    "    df = pd.read_csv(\"https://raw.githubusercontent.com/wcota/covid19br/master/cases-brazil-states.csv\")\n",
    "```\n",
    "\n",
    "_DICA_ : acesse o repositório para conhecer o Dicionário das Variáveis! \n",
    "\n",
    "\n",
    "### Exercícios \n",
    "\n",
    "Você tem algumas tarefas a serem realizadas:\n",
    "\n",
    "1. Considerando o arquivo `cases-brazil-states.csv`, responda: \n",
    "\n",
    "    a. [**0,25 ponto**] Quantas linhas e colunas ele possui? \n",
    "    \n",
    "    b. [**0,25 ponto**] Quais são os tipos de dados das variáveis? \n",
    "    \n",
    "    c. [**0,25 ponto**] Obtenha estatísticas básicas sobre estes dados (valores médios, mínimos, máximos, etc). Todos os números fazem sentido?\n",
    "    \n",
    "    d. [**0,25 ponto**] Converta a coluna `date` para o formato `DateTime`\n",
    "    \n",
    "\n",
    "2. Considerando o arquivo `cases-brazil-cities.csv`, responda: \n",
    "\n",
    "    a. [**1 ponto**] Quantas cidades _distintas_ existem? \n",
    "    \n",
    "    b. [**1 ponto**] O arquivo lista os casos por município no último dia. Obtenha por meio de manipulação deste arquivo um DataFrame com o número de casos e de mortes por estado \n",
    "    \n",
    "    \n",
    "3. [**1 ponto**] Na data de 25/fevereiro/2021, quais são os TOP10 estados com mais imunizados? Lembre-se: só está imunizado quem tomou a 2ª dose da vacina. \n",
    "\n",
    "4. [**2 pontos**] Encontre as TOP5 cidades do seu estado com o menor índice de mortalidade de COVID-19. \n",
    "\n",
    "5. [**2 pontos**] A partir das TOP5 cidades encontradas no _item 4._ , construa um dataframe com informações sobre este município (inclua as colunas: `código IBGE, nome completo, latitude, longitude, população 2020, indicação se a cidade é região metropolitana ou não`)\n",
    "\n",
    "6. [**2 pontos**] Faça um gráfico que mostre a evolução histórica de novos casos nos últimos 7 dias, comparando o TOTAL do Brasil com o TOTAL do estado de RJ, na mesma imagem \n",
    "\n",
    "\n",
    "\n",
    "### Data de entrega\n",
    "\n",
    "Estes exercícios devem ser feitos em sala de aula, com entrega via BlackBoard até às 18h. IMPORTANTE: renomeie o notebook incluindo seu nome!\n",
    "\n",
    "Em caso de dúvidas, chame o professor. Consultas aos materiais/Internet são permitidas. Bom trabalho! "
   ]
  },
  {
   "cell_type": "markdown",
   "metadata": {},
   "source": [
    "![Força](https://github.com/danielscarvalho/Insper-DS-Dicas/blob/master/img/for%C3%A7a.jpg?raw=true)"
   ]
  }
 ],
 "metadata": {
  "kernelspec": {
   "display_name": "Python 3 (ipykernel)",
   "language": "python",
   "name": "python3"
  },
  "language_info": {
   "codemirror_mode": {
    "name": "ipython",
    "version": 3
   },
   "file_extension": ".py",
   "mimetype": "text/x-python",
   "name": "python",
   "nbconvert_exporter": "python",
   "pygments_lexer": "ipython3",
   "version": "3.12.4"
  },
  "toc": {
   "base_numbering": 1,
   "nav_menu": {},
   "number_sections": true,
   "sideBar": true,
   "skip_h1_title": false,
   "title_cell": "Table of Contents",
   "title_sidebar": "Contents",
   "toc_cell": false,
   "toc_position": {},
   "toc_section_display": true,
   "toc_window_display": false
  }
 },
 "nbformat": 4,
 "nbformat_minor": 4
}
